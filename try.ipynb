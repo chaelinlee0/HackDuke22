{
 "cells": [
  {
   "cell_type": "code",
   "execution_count": 40,
   "metadata": {},
   "outputs": [],
   "source": [
    "me =\"{'Applicant Information': [{'Contact Information': [{'Name': 'Naol Basaye'}, {'School': 'Duke University & Duke Kunshan University'}, {'Degree': 'Bachelor of Science in Interdisciplinary Studies – Data Science'}, {'GPA': '3.7/4.0'}]}, {'Experience': [{'Company 1': [{'Company Name': 'Duke University Gemini Lab (May 2022 – Present)'}, {'Projects': ['Data Science team for a multinational research project']}, {'Accomplishments': ['Cut down data collection costs by 20%, promoted to lead the Data Science team, and fostered the adoption of a new time-saving framework']}]}, {'Company 2': [{'Company Name': 'Beru Computech (Aug 2020 – Aug 2021)'}, {'Projects': ['Software Engineer Intern']}, {'Accomplishments': ['Decreased data transfer time by 10%, selected as 1 of 5 team leaders, and improved team performance']}]}]}, {'Skills': ['Machine Learning', 'Big Data', 'Analysis', 'Business Analytics', 'Business Management']}, {'Technologies': ['Python', 'Java', 'SQL', 'NoSQL', 'Django', 'Tableau', 'Power BI']}, {'Leadership & Service': ['Time Café', 'Pen for Child – Education Supplies Charity']}, {'Projects': ['Collecting and Visualizing Internet Data', 'Machine Learning for Cryptocurrency Price Prediction']}, {'Certificates': ['AWS Essential Training for Developers', 'Advanced Microsoft Power BI', 'Excel Expert Certification Prep']}]}\""
   ]
  },
  {
   "cell_type": "code",
   "execution_count": 41,
   "metadata": {},
   "outputs": [
    {
     "data": {
      "text/plain": [
       "str"
      ]
     },
     "execution_count": 41,
     "metadata": {},
     "output_type": "execute_result"
    }
   ],
   "source": [
    "type(me)"
   ]
  },
  {
   "cell_type": "code",
   "execution_count": 42,
   "metadata": {},
   "outputs": [],
   "source": [
    "import ast"
   ]
  },
  {
   "cell_type": "code",
   "execution_count": 43,
   "metadata": {},
   "outputs": [],
   "source": [
    "you = ast.literal_eval(me)"
   ]
  },
  {
   "cell_type": "code",
   "execution_count": 44,
   "metadata": {},
   "outputs": [
    {
     "data": {
      "text/plain": [
       "dict"
      ]
     },
     "execution_count": 44,
     "metadata": {},
     "output_type": "execute_result"
    }
   ],
   "source": [
    "type(you)"
   ]
  },
  {
   "cell_type": "code",
   "execution_count": 45,
   "metadata": {},
   "outputs": [
    {
     "data": {
      "text/plain": [
       "{'Applicant Information': [{'Contact Information': [{'Name': 'Naol Basaye'},\n",
       "    {'School': 'Duke University & Duke Kunshan University'},\n",
       "    {'Degree': 'Bachelor of Science in Interdisciplinary Studies – Data Science'},\n",
       "    {'GPA': '3.7/4.0'}]},\n",
       "  {'Experience': [{'Company 1': [{'Company Name': 'Duke University Gemini Lab (May 2022 – Present)'},\n",
       "      {'Projects': ['Data Science team for a multinational research project']},\n",
       "      {'Accomplishments': ['Cut down data collection costs by 20%, promoted to lead the Data Science team, and fostered the adoption of a new time-saving framework']}]},\n",
       "    {'Company 2': [{'Company Name': 'Beru Computech (Aug 2020 – Aug 2021)'},\n",
       "      {'Projects': ['Software Engineer Intern']},\n",
       "      {'Accomplishments': ['Decreased data transfer time by 10%, selected as 1 of 5 team leaders, and improved team performance']}]}]},\n",
       "  {'Skills': ['Machine Learning',\n",
       "    'Big Data',\n",
       "    'Analysis',\n",
       "    'Business Analytics',\n",
       "    'Business Management']},\n",
       "  {'Technologies': ['Python',\n",
       "    'Java',\n",
       "    'SQL',\n",
       "    'NoSQL',\n",
       "    'Django',\n",
       "    'Tableau',\n",
       "    'Power BI']},\n",
       "  {'Leadership & Service': ['Time Café',\n",
       "    'Pen for Child – Education Supplies Charity']},\n",
       "  {'Projects': ['Collecting and Visualizing Internet Data',\n",
       "    'Machine Learning for Cryptocurrency Price Prediction']},\n",
       "  {'Certificates': ['AWS Essential Training for Developers',\n",
       "    'Advanced Microsoft Power BI',\n",
       "    'Excel Expert Certification Prep']}]}"
      ]
     },
     "execution_count": 45,
     "metadata": {},
     "output_type": "execute_result"
    }
   ],
   "source": [
    "you"
   ]
  },
  {
   "cell_type": "code",
   "execution_count": 25,
   "metadata": {},
   "outputs": [],
   "source": [
    "him =json.loads(you)"
   ]
  },
  {
   "cell_type": "code",
   "execution_count": 26,
   "metadata": {},
   "outputs": [
    {
     "data": {
      "text/plain": [
       "dict"
      ]
     },
     "execution_count": 26,
     "metadata": {},
     "output_type": "execute_result"
    }
   ],
   "source": [
    "type(him)"
   ]
  },
  {
   "cell_type": "code",
   "execution_count": null,
   "metadata": {},
   "outputs": [],
   "source": []
  }
 ],
 "metadata": {
  "kernelspec": {
   "display_name": "Python 3.8.13 (conda)",
   "language": "python",
   "name": "python3"
  },
  "language_info": {
   "codemirror_mode": {
    "name": "ipython",
    "version": 3
   },
   "file_extension": ".py",
   "mimetype": "text/x-python",
   "name": "python",
   "nbconvert_exporter": "python",
   "pygments_lexer": "ipython3",
   "version": "3.8.13"
  },
  "orig_nbformat": 4,
  "vscode": {
   "interpreter": {
    "hash": "fa160083bae3978703ff95d9fcae8181a7c7ebeed92392dc50b72dfd2dde72ad"
   }
  }
 },
 "nbformat": 4,
 "nbformat_minor": 2
}
